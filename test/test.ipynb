{
 "cells": [
  {
   "cell_type": "code",
   "execution_count": 1,
   "metadata": {},
   "outputs": [],
   "source": [
    "import numpy as np\n",
    "import pandas as pd"
   ]
  },
  {
   "cell_type": "code",
   "execution_count": 20,
   "metadata": {},
   "outputs": [
    {
     "data": {
      "text/html": [
       "<div>\n",
       "<style scoped>\n",
       "    .dataframe tbody tr th:only-of-type {\n",
       "        vertical-align: middle;\n",
       "    }\n",
       "\n",
       "    .dataframe tbody tr th {\n",
       "        vertical-align: top;\n",
       "    }\n",
       "\n",
       "    .dataframe thead th {\n",
       "        text-align: right;\n",
       "    }\n",
       "</style>\n",
       "<table border=\"1\" class=\"dataframe\">\n",
       "  <thead>\n",
       "    <tr style=\"text-align: right;\">\n",
       "      <th></th>\n",
       "      <th>sn</th>\n",
       "      <th>dwg_no</th>\n",
       "      <th>name</th>\n",
       "      <th>file</th>\n",
       "      <th>layout</th>\n",
       "      <th>scale</th>\n",
       "      <th>ver</th>\n",
       "      <th>border_style</th>\n",
       "    </tr>\n",
       "  </thead>\n",
       "  <tbody>\n",
       "    <tr>\n",
       "      <th>0</th>\n",
       "      <td>1</td>\n",
       "      <td>建总-01</td>\n",
       "      <td>总平面布置图</td>\n",
       "      <td>NaN</td>\n",
       "      <td>NaN</td>\n",
       "      <td>1:100</td>\n",
       "      <td>A</td>\n",
       "      <td>border_style_example</td>\n",
       "    </tr>\n",
       "    <tr>\n",
       "      <th>1</th>\n",
       "      <td>2</td>\n",
       "      <td>建总-02</td>\n",
       "      <td>场地围墙、工程做法详图</td>\n",
       "      <td>NaN</td>\n",
       "      <td>NaN</td>\n",
       "      <td>1:100</td>\n",
       "      <td>A</td>\n",
       "      <td>border_style_example</td>\n",
       "    </tr>\n",
       "    <tr>\n",
       "      <th>2</th>\n",
       "      <td>3</td>\n",
       "      <td>建施-503</td>\n",
       "      <td>墙身大样图(三)</td>\n",
       "      <td>xref-DETAIL-WALL.dwg</td>\n",
       "      <td>3000-03</td>\n",
       "      <td>1:20</td>\n",
       "      <td>A</td>\n",
       "      <td>border_style_example</td>\n",
       "    </tr>\n",
       "    <tr>\n",
       "      <th>3</th>\n",
       "      <td>4</td>\n",
       "      <td>建施-504</td>\n",
       "      <td>墙身大样图(四)</td>\n",
       "      <td>xref-DETAIL-WALL.dwg</td>\n",
       "      <td>3000-04</td>\n",
       "      <td>1:20</td>\n",
       "      <td>A</td>\n",
       "      <td>border_style_example</td>\n",
       "    </tr>\n",
       "    <tr>\n",
       "      <th>4</th>\n",
       "      <td>5</td>\n",
       "      <td>建施-601</td>\n",
       "      <td>门窗统计表及门窗详图</td>\n",
       "      <td>xref-CATALOG.dwg</td>\n",
       "      <td>F04门窗表</td>\n",
       "      <td>1:50</td>\n",
       "      <td>A</td>\n",
       "      <td>border_style_example</td>\n",
       "    </tr>\n",
       "  </tbody>\n",
       "</table>\n",
       "</div>"
      ],
      "text/plain": [
       "  sn  dwg_no         name                  file   layout  scale ver  \\\n",
       "0  1   建总-01       总平面布置图                   NaN      NaN  1:100   A   \n",
       "1  2   建总-02  场地围墙、工程做法详图                   NaN      NaN  1:100   A   \n",
       "2  3  建施-503     墙身大样图(三)  xref-DETAIL-WALL.dwg  3000-03   1:20   A   \n",
       "3  4  建施-504     墙身大样图(四)  xref-DETAIL-WALL.dwg  3000-04   1:20   A   \n",
       "4  5  建施-601   门窗统计表及门窗详图      xref-CATALOG.dwg   F04门窗表   1:50   A   \n",
       "\n",
       "           border_style  \n",
       "0  border_style_example  \n",
       "1  border_style_example  \n",
       "2  border_style_example  \n",
       "3  border_style_example  \n",
       "4  border_style_example  "
      ]
     },
     "execution_count": 20,
     "metadata": {},
     "output_type": "execute_result"
    }
   ],
   "source": [
    "_ = pd.read_excel(r'C:\\Users\\shun\\Desktop\\test\\133 - 副本.xlsx', sheet_name=None, dtype=str)\n",
    "# for df in _.values():\n",
    "#     df\n",
    "#     break\n",
    "\n",
    "df = _['F04']\n",
    "\n",
    "df.columns = [col.lower() for col in df.columns]\n",
    "df"
   ]
  }
 ],
 "metadata": {
  "kernelspec": {
   "display_name": "Python 3.10.5 64-bit",
   "language": "python",
   "name": "python3"
  },
  "language_info": {
   "codemirror_mode": {
    "name": "ipython",
    "version": 3
   },
   "file_extension": ".py",
   "mimetype": "text/x-python",
   "name": "python",
   "nbconvert_exporter": "python",
   "pygments_lexer": "ipython3",
   "version": "3.10.5"
  },
  "orig_nbformat": 4,
  "vscode": {
   "interpreter": {
    "hash": "301a17a29b57d3836b7901af1621afd6d2b1f2298b9c7949191147cf2fea93e3"
   }
  }
 },
 "nbformat": 4,
 "nbformat_minor": 2
}
